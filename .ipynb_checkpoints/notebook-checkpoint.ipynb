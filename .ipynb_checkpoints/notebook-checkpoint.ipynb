{
 "cells": [
  {
   "cell_type": "markdown",
   "id": "5e898233",
   "metadata": {},
   "source": [
    "# ELEN0071-1 - Homework 2"
   ]
  },
  {
   "cell_type": "markdown",
   "id": "0bdbd295",
   "metadata": {},
   "source": [
    "## Instructions\n",
    "\n",
    "- This homework must be carried out in groups of maximum 2 students.\n",
    "\n",
    "- Each group must write a Python notebook (named `notebook.ipynb`) that contains the answer to all questions of the homework. Each group must submit a single *zip* archive  that contains the notebook and all input/output associated files on [Gradescope](https://www.gradescope.com/). \n",
    "\n",
    "- This homework is due by May 20, 2022 at 10pm. This is a hard deadline.\n",
    "\n",
    "\n",
    "## Gradescope submission\n",
    "\n",
    "- Each student should register on [Gradescope](https://www.gradescope.com/) using his or her `@student.uliege.be` address. If you don't see the class ELEN0071-1 on your dashboard, contact us on [Ed](https://edstem.org/us/dashboard) as soon as possible (don't wait the day before the deadline ;-). \n",
    "\n",
    "- Each group should submit a *zip* archive on [Gradescope](https://www.gradescope.com/). Make sure that all group members are correctly added to the submission!\n",
    "\n",
    "If you are not familiar with Gradescope, please click on each step of the following guideline:\n",
    "- [Code submission](https://help.gradescope.com/article/ccbpppziu9-student-submit-work#code_submissions), \n",
    "- [Adding group members](https://help.gradescope.com/article/m5qz2xsnjy-student-add-group-members)."
   ]
  },
  {
   "cell_type": "markdown",
   "id": "d3873123",
   "metadata": {},
   "source": [
    "## Question 1 \n",
    "\n",
    "The University Hospital of Liège invited you to assist in the analysis of the electroencephalogram (EEG) of a volunteer progressively drugged with Propofol, a famous anesthetic. They need you to interpret the changes in the patient's neuronal activity throughout the experiment. Specifically, your task is to determine how neuronal activity is modified during anesthesia. To do so, doctors gave you two signals:\n",
    "- `EEG.npy`, the raw EEG signal, in µV.\n",
    "- `propofol.npy`, the concentration of anesthesia in the patient's blood, in µg/ml.\n",
    "Both signals were sampled at 250 Hz. To fulfill your task, follow the procedure below:\n",
    "\n",
    "**a)** Load and display the EEG data in the time domain. Your time axis should be expressed in minutes.\n",
    "\n",
    "**b)** Compute the spectrogram of the EEG signal using the function you wrote to answer Question 2c of Lab 2 (i.e. **WITHOUT using the function `scipy.signal.spectrogram` or any other pre-made function**). You must use a rectangular window, $N$ samples per segment, $N/8$ samples to overlap between segments, and no padding (i.e., `window='boxcar', nperseg=N, noverlap=N//8, nfft=N`). \n",
    "- Plot the spectrogram of the EEG and the Propofol sequence on top of each other to ease the parallel between the two figures. Both time axes should be expressed in minutes. \n",
    "- Discuss the choice of the parameter $N$ corresponding to the length of your window.\n",
    "\n",
    "*Suggestions* : Use `matplotlib.pyplot.subplots(nrows=2, ncols=1, figsize=(10, 10), sharex=True, constrained_layout=True)` where the first row is for the spectrogram and the second for the Propofol data. Set `vmin` and `vmax` wisely when using the function `matplotlib.pyplot.pcolormesh`. Use the same values across all of the spectrograms needed for this homework. \n",
    "\n",
    "**c)** Progressive loss of consciousness is marked by the appearance of new frequencies in the EEG spectrum. Based on your interpretation of the spectrogram through visual inspection, modify your previous Propofol plot to label the loss and the recovery of consciousness: \n",
    "- add a vertical dotted line labeled LC at the time index corresponding approximately to the loss of consciousness of the patient,\n",
    "- add a vertical dotted line labeled RC at the time index corresponding approximately to the recovery of consciousness.\n",
    "\n",
    "**d)** We can see that the EEG data is corrupted by white noise (i.e. noise power distributed over a large range of frequencies) during the first five minutes of the EEG recording. Do you notice another type of noise? Describe it.\n",
    "\n",
    "If the EEG data is affected by noise with a constant frequency, your next task is to filter it by following the steps below:\n",
    "\n",
    "**e)** Design a second-order notch filter for the adequate frequency **WITHOUT USING THE FUNCTION `scipy.signal.iirnotch`**. Do so by placing poles and zeros on the imaginary plane (pay attention that your filter must have a real-valued impulse response). Make sure that $20 \\cdot \\text{log}_{10}\\left(|H(e^{j\\omega})|\\right)\\approx 0$ dB for $\\omega$ outside of the stopband of your filter. Show the pole-zero plot and the Bode plots of your filter.\n",
    "\n",
    "*Bonus (+1/20): place the poles and zeros such that your notch filter has a 3dB-bandwidth of 5Hz. An illustration of the 3dB-bandwidth is shown in the figure below for a notch filter with a cut-off frequency $F_{cut}$.*\n",
    "<img src=\"./figure/HW2.jpg\"  alt=\"drawing\" width=\"550\"/>\n",
    "\n",
    "**f)** Filter the EEG signal using your design and the function `scipy.signal.filtfilt`. Show the result by plotting the spectrogram of the filtered EEG.\n",
    "\n",
    "**g)** Plot 2-second snapshots of the EEG data in the time domain at 70, 1000, and 2200 seconds before and after the filtering. "
   ]
  },
  {
   "cell_type": "markdown",
   "id": "30f136a9",
   "metadata": {},
   "source": [
    "#### Question 1.a)"
   ]
  },
  {
   "cell_type": "code",
   "execution_count": 15,
   "id": "d0f8992a",
   "metadata": {},
   "outputs": [],
   "source": [
    "# Start writing code here ..."
   ]
  },
  {
   "cell_type": "markdown",
   "id": "de600730",
   "metadata": {},
   "source": [
    "#### Question 1.b)"
   ]
  },
  {
   "cell_type": "code",
   "execution_count": 16,
   "id": "86038580",
   "metadata": {},
   "outputs": [],
   "source": [
    "# Start writing code here ..."
   ]
  },
  {
   "cell_type": "markdown",
   "id": "3f9814ec",
   "metadata": {},
   "source": [
    "#### Question 1.c)"
   ]
  },
  {
   "cell_type": "code",
   "execution_count": 17,
   "id": "9b181aed",
   "metadata": {},
   "outputs": [],
   "source": [
    "# Start writing code here ..."
   ]
  },
  {
   "cell_type": "markdown",
   "id": "ac649d47",
   "metadata": {},
   "source": [
    "#### Question 1.d)"
   ]
  },
  {
   "cell_type": "code",
   "execution_count": 18,
   "id": "15c8f903",
   "metadata": {},
   "outputs": [],
   "source": [
    "# Start writing code here ..."
   ]
  },
  {
   "cell_type": "markdown",
   "id": "2352159c",
   "metadata": {},
   "source": [
    "#### Question 1.e)"
   ]
  },
  {
   "cell_type": "code",
   "execution_count": 19,
   "id": "5a514103",
   "metadata": {},
   "outputs": [],
   "source": [
    "# Start writing code here ..."
   ]
  },
  {
   "cell_type": "markdown",
   "id": "32e69194",
   "metadata": {},
   "source": [
    "#### Question 1.f)"
   ]
  },
  {
   "cell_type": "code",
   "execution_count": 20,
   "id": "279914b1",
   "metadata": {},
   "outputs": [],
   "source": [
    "# Start writing code here ..."
   ]
  },
  {
   "cell_type": "markdown",
   "id": "66a577cc",
   "metadata": {},
   "source": [
    "#### Question 1.g)"
   ]
  },
  {
   "cell_type": "code",
   "execution_count": 21,
   "id": "ad135f47",
   "metadata": {},
   "outputs": [],
   "source": [
    "# Start writing code here ..."
   ]
  }
 ],
 "metadata": {
  "kernelspec": {
   "display_name": "Python 3 (ipykernel)",
   "language": "python",
   "name": "python3"
  },
  "language_info": {
   "codemirror_mode": {
    "name": "ipython",
    "version": 3
   },
   "file_extension": ".py",
   "mimetype": "text/x-python",
   "name": "python",
   "nbconvert_exporter": "python",
   "pygments_lexer": "ipython3",
   "version": "3.9.12"
  }
 },
 "nbformat": 4,
 "nbformat_minor": 5
}
